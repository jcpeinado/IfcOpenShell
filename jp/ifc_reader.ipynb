{
 "cells": [
  {
   "cell_type": "code",
   "execution_count": 1,
   "metadata": {},
   "outputs": [
    {
     "name": "stdout",
     "output_type": "stream",
     "text": [
      "Collecting ifcopenshell\n",
      "  Downloading ifcopenshell-0.8.0-py39-none-win_amd64.whl.metadata (11 kB)\n",
      "Collecting shapely (from ifcopenshell)\n",
      "  Downloading shapely-2.0.6-cp39-cp39-win_amd64.whl.metadata (7.2 kB)\n",
      "Requirement already satisfied: numpy in c:\\users\\jcp_2\\anaconda3\\envs\\dsi_participant\\lib\\site-packages (from ifcopenshell) (1.26.4)\n",
      "Collecting isodate (from ifcopenshell)\n",
      "  Downloading isodate-0.7.2-py3-none-any.whl.metadata (11 kB)\n",
      "Requirement already satisfied: python-dateutil in c:\\users\\jcp_2\\anaconda3\\envs\\dsi_participant\\lib\\site-packages (from ifcopenshell) (2.9.0)\n",
      "Collecting lark (from ifcopenshell)\n",
      "  Downloading lark-1.2.2-py3-none-any.whl.metadata (1.8 kB)\n",
      "Requirement already satisfied: typing-extensions in c:\\users\\jcp_2\\anaconda3\\envs\\dsi_participant\\lib\\site-packages (from ifcopenshell) (4.12.2)\n",
      "Requirement already satisfied: six>=1.5 in c:\\users\\jcp_2\\anaconda3\\envs\\dsi_participant\\lib\\site-packages (from python-dateutil->ifcopenshell) (1.16.0)\n",
      "Downloading ifcopenshell-0.8.0-py39-none-win_amd64.whl (20.9 MB)\n",
      "   ---------------------------------------- 0.0/20.9 MB ? eta -:--:--\n",
      "   --------------- ------------------------ 7.9/20.9 MB 44.2 MB/s eta 0:00:01\n",
      "   -------------------------------- ------- 17.0/20.9 MB 43.0 MB/s eta 0:00:01\n",
      "   ---------------------------------------- 20.9/20.9 MB 38.8 MB/s eta 0:00:00\n",
      "Downloading isodate-0.7.2-py3-none-any.whl (22 kB)\n",
      "Downloading lark-1.2.2-py3-none-any.whl (111 kB)\n",
      "Downloading shapely-2.0.6-cp39-cp39-win_amd64.whl (1.4 MB)\n",
      "   ---------------------------------------- 0.0/1.4 MB ? eta -:--:--\n",
      "   ---------------------------------------- 1.4/1.4 MB 73.8 MB/s eta 0:00:00\n",
      "Installing collected packages: shapely, lark, isodate, ifcopenshell\n",
      "Successfully installed ifcopenshell-0.8.0 isodate-0.7.2 lark-1.2.2 shapely-2.0.6\n",
      "Note: you may need to restart the kernel to use updated packages.\n"
     ]
    }
   ],
   "source": [
    "pip install ifcopenshell"
   ]
  },
  {
   "cell_type": "code",
   "execution_count": 5,
   "metadata": {},
   "outputs": [
    {
     "name": "stdout",
     "output_type": "stream",
     "text": [
      "0.8.0\n"
     ]
    }
   ],
   "source": [
    "import ifcopenshell\n",
    "\n",
    "print (ifcopenshell.version)\n",
    "\n",
    "model = ifcopenshell.file()\n"
   ]
  },
  {
   "cell_type": "code",
   "execution_count": null,
   "metadata": {},
   "outputs": [],
   "source": [
    "import ifcopenshell\n",
    "\n",
    "from ifccsv import\n",
    "\n",
    "print (ifcopenshell.version)\n",
    "\n",
    "model = ifcopenshell.file()"
   ]
  },
  {
   "cell_type": "code",
   "execution_count": 6,
   "metadata": {},
   "outputs": [
    {
     "name": "stdout",
     "output_type": "stream",
     "text": [
      "Collecting ifccsv\n",
      "  Downloading ifccsv-0.8.0-py3-none-any.whl.metadata (596 bytes)\n",
      "Requirement already satisfied: ifcopenshell in c:\\users\\jcp_2\\anaconda3\\envs\\dsi_participant\\lib\\site-packages (from ifccsv) (0.8.0)\n",
      "Requirement already satisfied: shapely in c:\\users\\jcp_2\\anaconda3\\envs\\dsi_participant\\lib\\site-packages (from ifcopenshell->ifccsv) (2.0.6)\n",
      "Requirement already satisfied: numpy in c:\\users\\jcp_2\\anaconda3\\envs\\dsi_participant\\lib\\site-packages (from ifcopenshell->ifccsv) (1.26.4)\n",
      "Requirement already satisfied: isodate in c:\\users\\jcp_2\\anaconda3\\envs\\dsi_participant\\lib\\site-packages (from ifcopenshell->ifccsv) (0.7.2)\n",
      "Requirement already satisfied: python-dateutil in c:\\users\\jcp_2\\anaconda3\\envs\\dsi_participant\\lib\\site-packages (from ifcopenshell->ifccsv) (2.9.0)\n",
      "Requirement already satisfied: lark in c:\\users\\jcp_2\\anaconda3\\envs\\dsi_participant\\lib\\site-packages (from ifcopenshell->ifccsv) (1.2.2)\n",
      "Requirement already satisfied: typing-extensions in c:\\users\\jcp_2\\anaconda3\\envs\\dsi_participant\\lib\\site-packages (from ifcopenshell->ifccsv) (4.12.2)\n",
      "Requirement already satisfied: six>=1.5 in c:\\users\\jcp_2\\anaconda3\\envs\\dsi_participant\\lib\\site-packages (from python-dateutil->ifcopenshell->ifccsv) (1.16.0)\n",
      "Downloading ifccsv-0.8.0-py3-none-any.whl (6.7 kB)\n",
      "Installing collected packages: ifccsv\n",
      "Successfully installed ifccsv-0.8.0\n",
      "Note: you may need to restart the kernel to use updated packages.\n"
     ]
    }
   ],
   "source": [
    "pip install ifccsv"
   ]
  },
  {
   "cell_type": "code",
   "execution_count": null,
   "metadata": {},
   "outputs": [],
   "source": []
  }
 ],
 "metadata": {
  "kernelspec": {
   "display_name": "dsi_participant",
   "language": "python",
   "name": "python3"
  },
  "language_info": {
   "codemirror_mode": {
    "name": "ipython",
    "version": 3
   },
   "file_extension": ".py",
   "mimetype": "text/x-python",
   "name": "python",
   "nbconvert_exporter": "python",
   "pygments_lexer": "ipython3",
   "version": "3.9.15"
  }
 },
 "nbformat": 4,
 "nbformat_minor": 2
}
